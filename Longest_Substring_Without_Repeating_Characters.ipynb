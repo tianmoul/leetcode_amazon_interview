{
 "cells": [
  {
   "cell_type": "code",
   "execution_count": 48,
   "id": "e5b078ec",
   "metadata": {},
   "outputs": [],
   "source": [
    "class soluction:\n",
    "    def lengthOfLongestSubstring(self, s: str) -> int:\n",
    "        chars = [0]*128\n",
    "        \n",
    "        left = right = 0\n",
    "        \n",
    "        res = 0\n",
    "        \n",
    "        while right < len(s):\n",
    "            \n",
    "            r = s[right]\n",
    "            chars[ord(r)] += 1\n",
    "\n",
    "            while chars[ord(r)] > 1:\n",
    "                \n",
    "                l = s[left]\n",
    "\n",
    "                left += 1 \n",
    "\n",
    "                chars[ord(l)] -= 1\n",
    "\n",
    "\n",
    "            res = max(res, right - left +1)\n",
    "\n",
    "            right += 1\n",
    "            \n",
    "        return res"
   ]
  },
  {
   "cell_type": "code",
   "execution_count": 50,
   "id": "5daff00c",
   "metadata": {},
   "outputs": [
    {
     "data": {
      "text/plain": [
       "3"
      ]
     },
     "execution_count": 50,
     "metadata": {},
     "output_type": "execute_result"
    }
   ],
   "source": [
    "sol = soluction()\n",
    "data = [\"a\",\"b\",\"c\",\"a\",\"b\",\"c\",\"b\",\"b\"]\n",
    "sol.lengthOfLongestSubstring(data)"
   ]
  }
 ],
 "metadata": {
  "kernelspec": {
   "display_name": "Python 3 (ipykernel)",
   "language": "python",
   "name": "python3"
  },
  "language_info": {
   "codemirror_mode": {
    "name": "ipython",
    "version": 3
   },
   "file_extension": ".py",
   "mimetype": "text/x-python",
   "name": "python",
   "nbconvert_exporter": "python",
   "pygments_lexer": "ipython3",
   "version": "3.9.7"
  }
 },
 "nbformat": 4,
 "nbformat_minor": 5
}
